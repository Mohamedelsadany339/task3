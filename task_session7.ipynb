{
 "cells": [
  {
   "cell_type": "markdown",
   "metadata": {
    "cell_id": "7aba8a97843d4f21b8d635b761b6375a",
    "deepnote_cell_type": "markdown"
   },
   "source": [
    "# Test Your Understanding"
   ]
  },
  {
   "cell_type": "markdown",
   "metadata": {
    "cell_id": "511cae99e794417cbd454268bc1a28e1",
    "deepnote_cell_type": "markdown"
   },
   "source": [
    "# String"
   ]
  },
  {
   "cell_type": "markdown",
   "metadata": {
    "cell_id": "a3661c792e8b436eb350957d1780164a",
    "deepnote_cell_type": "markdown"
   },
   "source": [
    "## Problem 1\n",
    "Write a program that prints the last half of the word before the first half with all letters in lowercase."
   ]
  },
  {
   "cell_type": "markdown",
   "metadata": {
    "cell_id": "5b32784caf3148949bb3bab1de6e6171",
    "deepnote_cell_type": "text-cell-h1",
    "formattedRanges": [
     {
      "fromCodePoint": 0,
      "marks": {
       "bold": true,
       "italic": true
      },
      "toCodePoint": 8,
      "type": "marks"
     }
    ],
    "is_collapsed": false,
    "tags": []
   },
   "source": [
    "# +1 bonus"
   ]
  },
  {
   "cell_type": "code",
   "execution_count": 2,
   "metadata": {
    "cell_id": "f89807db68ee42fa9c6ffa4ff95118e6",
    "deepnote_cell_type": "code",
    "deepnote_to_be_reexecuted": false,
    "execution_millis": 2,
    "execution_start": 1670084775576,
    "source_hash": "74d202e8"
   },
   "outputs": [
    {
     "name": "stdout",
     "output_type": "stream",
     "text": [
      "amedMoh\n"
     ]
    }
   ],
   "source": [
    "txt = \"Mohamed\"\n",
    "New_txt=txt[len(txt)//2:]+txt[0:(len(txt)//2)]\n",
    "print(New_txt)\n"
   ]
  },
  {
   "cell_type": "markdown",
   "metadata": {
    "cell_id": "3b68714fe3e14a5dbe6917d827acccb5",
    "deepnote_cell_type": "text-cell-h1",
    "formattedRanges": [
     {
      "fromCodePoint": 0,
      "marks": {
       "bold": true,
       "italic": true
      },
      "toCodePoint": 10,
      "type": "marks"
     }
    ],
    "is_collapsed": false,
    "tags": []
   },
   "source": [
    "# +0.5 bonus"
   ]
  },
  {
   "cell_type": "markdown",
   "metadata": {
    "cell_id": "dc3e8e69ed404c0eb3bf8ceea1a84af6",
    "deepnote_cell_type": "markdown"
   },
   "source": [
    "## Problem 2\n",
    "Write a program to detect a Palindrome name that when you read it from left or right will be the same.\n",
    "\n",
    "Example:\n",
    "\n",
    " Aziza-True\n",
    "\n",
    " Mawada-False"
   ]
  },
  {
   "cell_type": "code",
   "execution_count": 3,
   "metadata": {
    "cell_id": "ea3af196d8804a41927b51f9ecd40beb",
    "deepnote_cell_type": "code",
    "deepnote_to_be_reexecuted": false,
    "execution_millis": 4,
    "execution_start": 1670083946823,
    "source_hash": "9e2e3a1e"
   },
   "outputs": [
    {
     "name": "stdout",
     "output_type": "stream",
     "text": [
      "True\n"
     ]
    }
   ],
   "source": [
    "txt2 = \"Aziza\"\n",
    "New_txt=txt2.lower()\n",
    "print(New_txt[-1:len(txt2)//2:-1]==New_txt[0:len(New_txt)//2:1])\n",
    "\n",
    "# reverse string and lower\n"
   ]
  },
  {
   "cell_type": "markdown",
   "metadata": {
    "cell_id": "68467bc9b55e47088384866fc3931c1c",
    "deepnote_cell_type": "text-cell-h1",
    "formattedRanges": [
     {
      "fromCodePoint": 0,
      "marks": {
       "bold": true,
       "italic": true
      },
      "toCodePoint": 8,
      "type": "marks"
     }
    ],
    "is_collapsed": false,
    "tags": []
   },
   "source": [
    "# +3 bonus"
   ]
  },
  {
   "cell_type": "markdown",
   "metadata": {
    "cell_id": "8439da7afbbd4bf0bc7a7759b504f40e",
    "deepnote_cell_type": "markdown"
   },
   "source": [
    "## Problem 8 (a)\n",
    "Print the following text using escape sequence characters:"
   ]
  },
  {
   "cell_type": "code",
   "execution_count": 4,
   "metadata": {
    "cell_id": "f1f4d1655444470791c106468ea5ae29",
    "deepnote_cell_type": "code"
   },
   "outputs": [
    {
     "name": "stdout",
     "output_type": "stream",
     "text": [
      "\\tGood morning ladies/gentlemen. Welcome to\\n\\t\"Web Development: \\'Frontend\\' Course\"\n"
     ]
    }
   ],
   "source": [
    "txt = '\\tGood morning ladies/gentlemen. Welcome to\\n\\t\"Web Development: \\'Frontend\\' Course\"'\n",
    "txt2=r'\\tGood morning ladies/gentlemen. Welcome to\\n\\t\"Web Development: \\'Frontend\\' Course\"'\n",
    "print(txt2)\n",
    "\n"
   ]
  },
  {
   "cell_type": "markdown",
   "metadata": {
    "cell_id": "f2f2c8bf78dc4e2f94e8e539b7c483da",
    "deepnote_cell_type": "markdown"
   },
   "source": [
    "## Problem 8 (b)\n",
    "Print the text after removing the space at its beginning using a string method.\n"
   ]
  },
  {
   "cell_type": "code",
   "execution_count": 5,
   "metadata": {
    "cell_id": "b80ec5cab7024860905a1801f3d832ee",
    "deepnote_cell_type": "code"
   },
   "outputs": [
    {
     "name": "stdout",
     "output_type": "stream",
     "text": [
      "Good morning ladies/gentlemen. Welcome to\n",
      "\t\"Web Development: 'Frontend' Course\"\n"
     ]
    }
   ],
   "source": [
    "#b\n",
    "print(txt.strip())\n"
   ]
  },
  {
   "cell_type": "markdown",
   "metadata": {
    "cell_id": "a8a88a8a90f44c4593cb51087f43362b",
    "deepnote_cell_type": "markdown"
   },
   "source": [
    "## Problem 8 (c)\n",
    "Replace the incorrect word 'Frontend' with the correct word 'Backend' using a string method, and print it out the resulting text."
   ]
  },
  {
   "cell_type": "code",
   "execution_count": 6,
   "metadata": {
    "cell_id": "e6d3af2de562471dbee1591fb282d5c9",
    "deepnote_cell_type": "code"
   },
   "outputs": [
    {
     "name": "stdout",
     "output_type": "stream",
     "text": [
      "\tGood morning ladies/gentlemen. Welcome to\n",
      "\t\"Web Development: 'Backend' Course\"\n"
     ]
    }
   ],
   "source": [
    "#c\n",
    "print(txt.replace('Frontend','Backend'))\n"
   ]
  },
  {
   "cell_type": "markdown",
   "metadata": {
    "cell_id": "389de90491ec4d1788883f486f0caef0",
    "deepnote_cell_type": "markdown"
   },
   "source": [
    "# List"
   ]
  },
  {
   "cell_type": "markdown",
   "metadata": {
    "cell_id": "44e59d10e77e40d2bcf8bfafeb7a1dbf",
    "deepnote_cell_type": "markdown"
   },
   "source": [
    "## Problem 4\n",
    "\n",
    "Do the required operations on the following list:"
   ]
  },
  {
   "cell_type": "code",
   "execution_count": null,
   "metadata": {
    "cell_id": "4c6d9ab904af4457bcfede1a59625d94",
    "deepnote_cell_type": "code"
   },
   "outputs": [],
   "source": [
    "l = [5]"
   ]
  },
  {
   "cell_type": "markdown",
   "metadata": {
    "cell_id": "7348af1e24124d409343df48307173e1",
    "deepnote_cell_type": "markdown"
   },
   "source": [
    "Output []:\n",
    "\n",
    "[6, 5, 10]\n",
    "\n",
    "[1, 5, 9, 10]\n",
    "\n",
    "[9, 5, 10]\n",
    "\n",
    "[9, 5, 10, 9, 5]"
   ]
  },
  {
   "cell_type": "markdown",
   "metadata": {
    "cell_id": "e25a5138692042489982e3b6d10f0a69",
    "deepnote_cell_type": "markdown"
   },
   "source": [
    "# Set"
   ]
  },
  {
   "cell_type": "markdown",
   "metadata": {
    "cell_id": "56f20e668aac4415a2005cd428b5bd1c",
    "deepnote_cell_type": "markdown"
   },
   "source": [
    "## Problem 5\n",
    "\n",
    "Count the Number of matching characters in a pair of strings."
   ]
  },
  {
   "cell_type": "code",
   "execution_count": null,
   "metadata": {
    "cell_id": "9decf73df240432180f334c6ef54d933",
    "deepnote_cell_type": "code"
   },
   "outputs": [],
   "source": [
    "s1 = \"GDSC-NU\"\n",
    "s1 = \"GDG Cairo\""
   ]
  },
  {
   "cell_type": "markdown",
   "metadata": {
    "created_in_deepnote_cell": true,
    "deepnote_cell_type": "markdown",
    "tags": []
   },
   "source": [
    "<a style='text-decoration:none;line-height:16px;display:flex;color:#5B5B62;padding:10px;justify-content:end;' href='https://deepnote.com?utm_source=created-in-deepnote-cell&projectId=bbe9ee37-096b-41bd-9925-6ddb65baad82' target=\"_blank\">\n",
    "<img alt='Created in deepnote.com' style='display:inline;max-height:16px;margin:0px;margin-right:7.5px;' src='data:image/svg+xml;base64,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' > </img>\n",
    "Created in <span style='font-weight:600;margin-left:4px;'>Deepnote</span></a>"
   ]
  }
 ],
 "metadata": {
  "deepnote": {},
  "deepnote_execution_queue": [],
  "deepnote_notebook_id": "2a73e6b7e3d34fc0a7ce8257806621b7",
  "kernelspec": {
   "display_name": "Python 3 (ipykernel)",
   "language": "python",
   "name": "python3"
  },
  "language_info": {
   "codemirror_mode": {
    "name": "ipython",
    "version": 3
   },
   "file_extension": ".py",
   "mimetype": "text/x-python",
   "name": "python",
   "nbconvert_exporter": "python",
   "pygments_lexer": "ipython3",
   "version": "3.9.13"
  }
 },
 "nbformat": 4,
 "nbformat_minor": 1
}
